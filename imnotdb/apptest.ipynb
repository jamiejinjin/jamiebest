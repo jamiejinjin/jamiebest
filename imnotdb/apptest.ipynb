{
 "cells": [
  {
   "cell_type": "code",
   "execution_count": 1,
   "metadata": {},
   "outputs": [],
   "source": [
    "import pandas as pd"
   ]
  },
  {
   "cell_type": "code",
   "execution_count": 2,
   "metadata": {},
   "outputs": [],
   "source": [
    "URI = \"postgresql://jamiebest:jamiebest@db:5432/jamiebest\""
   ]
  },
  {
   "cell_type": "code",
   "execution_count": 8,
   "metadata": {},
   "outputs": [
    {
     "name": "stdout",
     "output_type": "stream",
     "text": [
      "Connected to - PostgreSQL 16.0 (Debian 16.0-1.pgdg120+1) on aarch64-unknown-linux-gnu, compiled by gcc (Debian 12.2.0-14) 12.2.0, 64-bit\n"
     ]
    }
   ],
   "source": [
    "import psycopg2\n",
    "\n",
    "# Connection parameters\n",
    "host = \"localhost\"\n",
    "database = \"jamiebest\"\n",
    "user = \"jamiebest\"\n",
    "password = \"jamiebest\"\n",
    "port = \"5432\"\n",
    "\n",
    "# Establishing the connection\n",
    "conn = psycopg2.connect(\n",
    "    dbname=database,\n",
    "    user=user,\n",
    "    password=password,\n",
    "    host=host,\n",
    "    port=port\n",
    ")\n",
    "\n",
    "# Creating a cursor object using the connection\n",
    "cur = conn.cursor()\n",
    "\n",
    "# Execute a simple query\n",
    "cur.execute(\"SELECT version();\")\n",
    "version = cur.fetchone()\n",
    "print(f\"Connected to - {version[0]}\")\n",
    "\n",
    "# Close the cursor and connection\n",
    "cur.close()\n",
    "conn.close()\n"
   ]
  },
  {
   "cell_type": "code",
   "execution_count": 9,
   "metadata": {},
   "outputs": [],
   "source": [
    "class Database:\n",
    "    def __init__(\n",
    "        self,\n",
    "        user,\n",
    "        password,\n",
    "        database = \"jamiebest\",\n",
    "        host = \"localhost\",\n",
    "        port = \"5432\",\n",
    "    ):\n",
    "        self.user = user\n",
    "        self.password = password\n",
    "        self.database = database\n",
    "        self.host = host\n",
    "        self.port = port\n",
    "    \n",
    "    def execute_query(self, query: str):\n",
    "        conn = psycopg2.connect(\n",
    "            dbname=self.database,\n",
    "            user=self.user,\n",
    "            password=self.password,\n",
    "            host=self.host,\n",
    "            port=self.port\n",
    "        )\n",
    "        cur = conn.cursor()\n",
    "        cur.execute(query)\n",
    "        conn.commit()\n",
    "        conn.close()"
   ]
  },
  {
   "cell_type": "code",
   "execution_count": 11,
   "metadata": {},
   "outputs": [],
   "source": [
    "db = Database(\n",
    "    user=\"jamiebest\",\n",
    "    password=\"jamiebest\",\n",
    "    database=\"jamiebest\",\n",
    ")"
   ]
  },
  {
   "cell_type": "code",
   "execution_count": 18,
   "metadata": {},
   "outputs": [],
   "source": [
    "db.execute_query(\"\"\"DROP TABLE IF EXISTS \"user\";\"\"\"\n",
    "                 )"
   ]
  },
  {
   "cell_type": "markdown",
   "metadata": {},
   "source": [
    "## Create user table"
   ]
  },
  {
   "cell_type": "code",
   "execution_count": 20,
   "metadata": {},
   "outputs": [],
   "source": [
    "db.execute_query(\n",
    "    \"\"\"\n",
    "    CREATE TABLE IF NOT EXISTS \"user\" (\n",
    "        id SERIAL PRIMARY KEY,\n",
    "        username VARCHAR(50) UNIQUE NOT NULL,\n",
    "        password VARCHAR(50) NOT NULL,\n",
    "        email VARCHAR(50) UNIQUE NOT NULL,\n",
    "        created_on TIMESTAMP NOT NULL,\n",
    "        updated_on TIMESTAMP,\n",
    "        last_login TIMESTAMP\n",
    "    );\n",
    "    \"\"\"\n",
    ")"
   ]
  },
  {
   "cell_type": "markdown",
   "metadata": {},
   "source": [
    "Fill user table"
   ]
  },
  {
   "cell_type": "code",
   "execution_count": 21,
   "metadata": {},
   "outputs": [],
   "source": [
    "from datetime import datetime"
   ]
  },
  {
   "cell_type": "code",
   "execution_count": 22,
   "metadata": {},
   "outputs": [],
   "source": [
    "import hashlib"
   ]
  },
  {
   "cell_type": "code",
   "execution_count": 32,
   "metadata": {},
   "outputs": [],
   "source": [
    "def hash_the_password(password, salt):\n",
    "    return hashlib.sha256(salt.encode() + password.encode()).hexdigest()[:30]"
   ]
  },
  {
   "cell_type": "code",
   "execution_count": 33,
   "metadata": {},
   "outputs": [],
   "source": [
    "SALT = \"a2b530C3\""
   ]
  },
  {
   "cell_type": "code",
   "execution_count": 34,
   "metadata": {},
   "outputs": [
    {
     "data": {
      "text/plain": [
       "'73af210668e02674855116ac1c5c1b'"
      ]
     },
     "execution_count": 34,
     "metadata": {},
     "output_type": "execute_result"
    }
   ],
   "source": [
    "hash_the_password(\"password\", SALT)"
   ]
  },
  {
   "cell_type": "code",
   "execution_count": 49,
   "metadata": {},
   "outputs": [
    {
     "data": {
      "text/plain": [
       "18"
      ]
     },
     "execution_count": 49,
     "metadata": {},
     "output_type": "execute_result"
    }
   ],
   "source": [
    "int(\"12\", 16) "
   ]
  },
  {
   "cell_type": "code",
   "execution_count": 35,
   "metadata": {},
   "outputs": [],
   "source": [
    "username = \"Ken\"\n",
    "password = \"ken123.comPlicated\"\n",
    "email = \"ken@gosling.com\"\n",
    "hashed = hash_the_password(password, SALT)\n",
    "\n",
    "db.execute_query(f\"\"\"\n",
    "    INSERT INTO \"user\" (username, password, email, created_on)\n",
    "    VALUES ('{username}', '{hashed}', '{email}', '{datetime.now()}');\n",
    "    \"\"\")"
   ]
  },
  {
   "cell_type": "code",
   "execution_count": 54,
   "metadata": {},
   "outputs": [
    {
     "ename": "SyntaxError",
     "evalue": "duplicate argument 'password' in function definition (3941976683.py, line 1)",
     "output_type": "error",
     "traceback": [
      "\u001b[0;36m  Cell \u001b[0;32mIn[54], line 1\u001b[0;36m\u001b[0m\n\u001b[0;31m    def new_user_to_db(\u001b[0m\n\u001b[0m    ^\u001b[0m\n\u001b[0;31mSyntaxError\u001b[0m\u001b[0;31m:\u001b[0m duplicate argument 'password' in function definition\n"
     ]
    }
   ],
   "source": [
    "def new_user_to_db(\n",
    "    db,\n",
    "    username: str,\n",
    "    password: str,\n",
    "    email: str, \n",
    "):\n",
    "    hashed = hash_the_password(password, SALT)\n",
    "\n",
    "    db.execute_query(f\"\"\"\n",
    "        INSERT INTO \"user\" (username, password, email, created_on)\n",
    "        VALUES ('{username}', '{hashed}', '{email}', '{datetime.now()}');\n",
    "        \"\"\")\n",
    "    return True"
   ]
  },
  {
   "cell_type": "code",
   "execution_count": null,
   "metadata": {},
   "outputs": [],
   "source": []
  }
 ],
 "metadata": {
  "kernelspec": {
   "display_name": "base",
   "language": "python",
   "name": "python3"
  },
  "language_info": {
   "codemirror_mode": {
    "name": "ipython",
    "version": 3
   },
   "file_extension": ".py",
   "mimetype": "text/x-python",
   "name": "python",
   "nbconvert_exporter": "python",
   "pygments_lexer": "ipython3",
   "version": "3.9.12"
  },
  "orig_nbformat": 4
 },
 "nbformat": 4,
 "nbformat_minor": 2
}
